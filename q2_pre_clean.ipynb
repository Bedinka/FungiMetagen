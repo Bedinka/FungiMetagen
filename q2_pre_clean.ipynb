{
 "cells": [
  {
   "cell_type": "markdown",
   "metadata": {},
   "source": [
    "# **Metagenomics Pipeline**"
   ]
  },
  {
   "cell_type": "markdown",
   "metadata": {},
   "source": [
    "### Metagenomic amplicon sequencing -> single or paired end fatsq \n",
    "\n",
    "Data: https://drive.google.com/drive/u/2/folders/1EbrItGAVVB75YAgNtEwpO-ztFeVxJqrV "
   ]
  },
  {
   "cell_type": "markdown",
   "metadata": {},
   "source": [
    "### Pipeline :\n",
    "\n",
    "Raw reads --(QIIME)--> ASV --(Picrust2)--> Bact\n",
    "\n",
    "Raw reads --(QIIME)--> ASV --(FUNGuild)--> Fungi"
   ]
  },
  {
   "cell_type": "markdown",
   "metadata": {},
   "source": [
    "![## QIIME](firstsec.png)"
   ]
  },
  {
   "cell_type": "markdown",
   "metadata": {},
   "source": [
    "## Importing files for paired-end analysis\n"
   ]
  },
  {
   "cell_type": "code",
   "execution_count": null,
   "metadata": {},
   "outputs": [
    {
     "ename": "SyntaxError",
     "evalue": "invalid syntax (1707935972.py, line 1)",
     "output_type": "error",
     "traceback": [
      "\u001b[0;36m  Cell \u001b[0;32mIn[1], line 1\u001b[0;36m\u001b[0m\n\u001b[0;31m    qiime tools import \\\u001b[0m\n\u001b[0m          ^\u001b[0m\n\u001b[0;31mSyntaxError\u001b[0m\u001b[0;31m:\u001b[0m invalid syntax\n"
     ]
    }
   ],
   "source": [
    "qiime tools import \\\n",
    "  --type 'SampleData[PairedEndSequencesWithQuality]' \\\n",
    "  --input-path paired-files \\\n",
    "  --input-format CasavaOneEightSingleLanePerSampleDirFmt \\\n",
    "  --output-path paired-end-sequences.qza"
   ]
  },
  {
   "cell_type": "markdown",
   "metadata": {},
   "source": [
    "## Demultiplexed samples"
   ]
  },
  {
   "cell_type": "code",
   "execution_count": null,
   "metadata": {},
   "outputs": [],
   "source": [
    "qiime demux summarize \\\n",
    "--i-data paired-end-sequences.qza \\\n",
    "--o-visualization demux.qzv"
   ]
  },
  {
   "cell_type": "markdown",
   "metadata": {},
   "source": [
    "## Demultiplexing\n",
    "\n"
   ]
  },
  {
   "cell_type": "code",
   "execution_count": null,
   "metadata": {},
   "outputs": [],
   "source": [
    "qiime demux emp-paired \\\n",
    "  --m-barcodes-file LMS-16S-metadata.tsv \\\n",
    "  --m-barcodes-column sample-id \\\n",
    "  --p-rev-comp-mapping-barcodes \\\n",
    "  --i-seqs paired-end-sequences.qza \\\n",
    "  --o-per-sample-sequences demux-full.qza \\\n",
    "  --o-error-correction-details demux-details.qza"
   ]
  },
  {
   "cell_type": "markdown",
   "metadata": {},
   "source": [
    "## Trimming\n",
    "\n",
    "300 bp reads\n",
    "\n",
    "The sequences for the commonly used bacterial primers **BAkt_341F** and **BAkt_805R** are:\n",
    "\n",
    "- **BAkt_341F (Forward Primer)**: `CCTACGGGNGGCWGCAG`\n",
    "- **BAkt_805R (Reverse Primer)**: `GACTACHVGGGTATCTAATCC`\n",
    "\n",
    "These primers are used to amplify the **V3-V4 region** of the **16S rRNA gene** in bacteria. This region is often targeted in microbial community studies because it provides enough variability to distinguish between different bacterial taxa while being conserved enough to allow universal primer binding.\n"
   ]
  },
  {
   "cell_type": "markdown",
   "metadata": {},
   "source": [
    "\n",
    "| Characteristic       | Primers                                  | Adapters                                   |\n",
    "|----------------------|-------------------------------------------|--------------------------------------------|\n",
    "| **Function**         | Initiate DNA synthesis during PCR.       | Enable binding of DNA fragments to the sequencing platform. |\n",
    "| **Location**         | Bind to the **5' end** of target regions during PCR. | Added to both **3' and 5' ends** of DNA fragments during library preparation. |\n",
    "| **Role**             | Define the region of DNA to be amplified. | Facilitate attachment of DNA to sequencing machinery. |\n",
    "| **Removal During Analysis** | Usually removed during quality control to ensure only the target sequence is analyzed. | Often trimmed to remove unwanted sequences before downstream analysis. |\n",
    "\n"
   ]
  },
  {
   "cell_type": "markdown",
   "metadata": {},
   "source": [
    "### Primer\n",
    "\n",
    "--pcores 4 is for the MacBookAir "
   ]
  },
  {
   "cell_type": "code",
   "execution_count": null,
   "metadata": {},
   "outputs": [],
   "source": [
    "qiime cutadapt trim-paired \\\n",
    "--i-demultiplexed-sequences paired-end-sequences.qza \\\n",
    "--p-cores 4 \\\n",
    "--p-front-f \"CCTACGGGNGGCWGCAG\" \\\n",
    "--p-front-r \"GACTACHVGGGTATCTAATCC\" \\\n",
    "--o-trimmed-sequences front-trimmed-seqs.qza"
   ]
  },
  {
   "cell_type": "code",
   "execution_count": null,
   "metadata": {},
   "outputs": [],
   "source": [
    "qiime demux summarize \\\n",
    "--i-data front-trimmed-seqs.qza \\\n",
    "--o-visualization trimmed-seqs.qzv"
   ]
  },
  {
   "cell_type": "markdown",
   "metadata": {},
   "source": [
    "## Denoising"
   ]
  },
  {
   "cell_type": "code",
   "execution_count": null,
   "metadata": {},
   "outputs": [],
   "source": [
    "qiime dada2 denoise-paired \\\n",
    "    --i-demultiplexed-seqs demux-paired-end.qza \\\n",
    "    --p-trunc-len-f 250 \\\n",
    "    --p-trunc-len-r 170 \\\n",
    "    --p-trim-left-f 6   \\\n",
    "    --p-trim-left-r 6   \\\n",
    "    --o-representative-sequences rep-seqs.qza \\\n",
    "    --o-table freq-feature-table.qza \\\n",
    "    --o-denoising-stats denoising-stats.qza"
   ]
  }
 ],
 "metadata": {
  "kernelspec": {
   "display_name": "Python 3",
   "language": "python",
   "name": "python3"
  },
  "language_info": {
   "codemirror_mode": {
    "name": "ipython",
    "version": 3
   },
   "file_extension": ".py",
   "mimetype": "text/x-python",
   "name": "python",
   "nbconvert_exporter": "python",
   "pygments_lexer": "ipython3",
   "version": "3.9.19"
  }
 },
 "nbformat": 4,
 "nbformat_minor": 2
}
